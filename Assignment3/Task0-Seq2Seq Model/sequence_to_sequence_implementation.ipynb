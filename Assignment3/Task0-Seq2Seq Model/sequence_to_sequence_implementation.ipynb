{
  "nbformat": 4,
  "nbformat_minor": 0,
  "metadata": {
    "anaconda-cloud": {},
    "kernelspec": {
      "display_name": "Python 3",
      "language": "python",
      "name": "python3"
    },
    "language_info": {
      "codemirror_mode": {
        "name": "ipython",
        "version": 3
      },
      "file_extension": ".py",
      "mimetype": "text/x-python",
      "name": "python",
      "nbconvert_exporter": "python",
      "pygments_lexer": "ipython3",
      "version": "3.7.5"
    },
    "colab": {
      "name": "sequence_to_sequence_implementation.ipynb",
      "provenance": [],
      "toc_visible": true
    }
  },
  "cells": [
    {
      "cell_type": "markdown",
      "metadata": {
        "collapsed": true,
        "id": "n9O7GvPfpPiG",
        "colab_type": "text"
      },
      "source": [
        "# Character Sequence to Sequence \n",
        "In this notebook, we'll build a model that takes in a sequence of letters, and outputs a sorted version of that sequence. We'll do that using what we've learned so far about Sequence to Sequence models. This notebook was updated to work with TensorFlow 1.1 and builds on the work of Dave Currie. Check out Dave's post [Text Summarization with Amazon Reviews](https://medium.com/towards-data-science/text-summarization-with-amazon-reviews-41801c2210b).\n",
        "\n",
        "<img src=\"/content/sequence-to-sequence.jpg\"/>\n",
        "\n",
        "\n",
        "## Dataset \n",
        "\n",
        "The dataset lives in the /data/ folder. At the moment, it is made up of the following files:\n",
        " * **letters_source.txt**: The list of input letter sequences. Each sequence is its own line. \n",
        " * **letters_target.txt**: The list of target sequences we'll use in the training process. Each sequence here is a response to the input sequence in letters_source.txt with the same line number."
      ]
    },
    {
      "cell_type": "code",
      "metadata": {
        "scrolled": false,
        "id": "va7IxTZqpPiG",
        "colab_type": "code",
        "colab": {
          "base_uri": "https://localhost:8080/",
          "height": 34
        },
        "outputId": "18a4dd0d-5325-48b6-c21a-e9e3dab596da"
      },
      "source": [
        "%tensorflow_version 1.x\n",
        "import numpy as np\n",
        "import time\n",
        "\n",
        "import helper\n",
        "\n",
        "source_path = '/content/letters_source.txt'\n",
        "target_path = '/content/letters_target.txt'\n",
        "\n",
        "source_sentences = helper.load_data(source_path)\n",
        "target_sentences = helper.load_data(target_path)"
      ],
      "execution_count": 1,
      "outputs": [
        {
          "output_type": "stream",
          "text": [
            "TensorFlow 1.x selected.\n"
          ],
          "name": "stdout"
        }
      ]
    },
    {
      "cell_type": "markdown",
      "metadata": {
        "id": "5Q_TNusmpPiK",
        "colab_type": "text"
      },
      "source": [
        "Let's start by examining the current state of the dataset. `source_sentences` contains the entire input sequence file as text delimited by newline symbols."
      ]
    },
    {
      "cell_type": "code",
      "metadata": {
        "id": "1rC7cJxjpPiL",
        "colab_type": "code",
        "colab": {
          "base_uri": "https://localhost:8080/",
          "height": 185
        },
        "outputId": "a20c95f8-ed04-420b-ac7b-d8713a519720"
      },
      "source": [
        "source_sentences[:50].split('\\n')"
      ],
      "execution_count": 2,
      "outputs": [
        {
          "output_type": "execute_result",
          "data": {
            "text/plain": [
              "['bsaqq',\n",
              " 'npy',\n",
              " 'lbwuj',\n",
              " 'bqv',\n",
              " 'kial',\n",
              " 'tddam',\n",
              " 'edxpjpg',\n",
              " 'nspv',\n",
              " 'huloz',\n",
              " '']"
            ]
          },
          "metadata": {
            "tags": []
          },
          "execution_count": 2
        }
      ]
    },
    {
      "cell_type": "markdown",
      "metadata": {
        "id": "iUz60MeLpPiO",
        "colab_type": "text"
      },
      "source": [
        "`target_sentences` contains the entire output sequence file as text delimited by newline symbols.  Each line corresponds to the line from `source_sentences`.  `target_sentences` contains a sorted characters of the line."
      ]
    },
    {
      "cell_type": "code",
      "metadata": {
        "id": "MSXH2lfzpPiO",
        "colab_type": "code",
        "colab": {
          "base_uri": "https://localhost:8080/",
          "height": 185
        },
        "outputId": "e42c6f79-b18b-4ed6-94a6-26524489b13a"
      },
      "source": [
        "target_sentences[:50].split('\\n')"
      ],
      "execution_count": 3,
      "outputs": [
        {
          "output_type": "execute_result",
          "data": {
            "text/plain": [
              "['abqqs',\n",
              " 'npy',\n",
              " 'bjluw',\n",
              " 'bqv',\n",
              " 'aikl',\n",
              " 'addmt',\n",
              " 'degjppx',\n",
              " 'npsv',\n",
              " 'hlouz',\n",
              " '']"
            ]
          },
          "metadata": {
            "tags": []
          },
          "execution_count": 3
        }
      ]
    },
    {
      "cell_type": "markdown",
      "metadata": {
        "id": "6RZ2yRxdpPiR",
        "colab_type": "text"
      },
      "source": [
        "## Preprocess\n",
        "To do anything useful with it, we'll need to turn the each string into a list of characters: \n",
        "\n",
        "<img src=\"images/source_and_target_arrays.png\"/>\n",
        "\n",
        "Then convert the characters to their int values as declared in our vocabulary:\n"
      ]
    },
    {
      "cell_type": "code",
      "metadata": {
        "id": "-pfgx4hdpPiS",
        "colab_type": "code",
        "colab": {
          "base_uri": "https://localhost:8080/",
          "height": 118
        },
        "outputId": "c0743f89-1ab5-4c8e-a96d-612f2a0dd155"
      },
      "source": [
        "def extract_character_vocab(data):\n",
        "    special_words = ['<PAD>', '<UNK>', '<GO>',  '<EOS>']\n",
        "\n",
        "    set_words = set([character for line in data.split('\\n') for character in line])\n",
        "    int_to_vocab = {word_i: word for word_i, word in enumerate(special_words + list(set_words))}\n",
        "    vocab_to_int = {word: word_i for word_i, word in int_to_vocab.items()}\n",
        "\n",
        "    return int_to_vocab, vocab_to_int\n",
        "\n",
        "# Build int2letter and letter2int dicts\n",
        "source_int_to_letter, source_letter_to_int = extract_character_vocab(source_sentences)\n",
        "target_int_to_letter, target_letter_to_int = extract_character_vocab(target_sentences)\n",
        "\n",
        "# Convert characters to ids\n",
        "source_letter_ids = [[source_letter_to_int.get(letter, source_letter_to_int['<UNK>']) for letter in line] for line in source_sentences.split('\\n')]\n",
        "target_letter_ids = [[target_letter_to_int.get(letter, target_letter_to_int['<UNK>']) for letter in line] + [target_letter_to_int['<EOS>']] for line in target_sentences.split('\\n')] \n",
        "\n",
        "print(\"Example source sequence\")\n",
        "print(source_letter_ids[:3])\n",
        "print(\"\\n\")\n",
        "print(\"Example target sequence\")\n",
        "print(target_letter_ids[:3])"
      ],
      "execution_count": 4,
      "outputs": [
        {
          "output_type": "stream",
          "text": [
            "Example source sequence\n",
            "[[24, 13, 28, 7, 7], [10, 18, 16], [23, 24, 27, 14, 15]]\n",
            "\n",
            "\n",
            "Example target sequence\n",
            "[[28, 24, 7, 7, 13, 3], [10, 18, 16, 3], [24, 15, 23, 14, 27, 3]]\n"
          ],
          "name": "stdout"
        }
      ]
    },
    {
      "cell_type": "markdown",
      "metadata": {
        "id": "Ev5uZ0bDpPiU",
        "colab_type": "text"
      },
      "source": [
        "\n",
        "\n",
        "This is the final shape we need them to be in. We can now proceed to building the model."
      ]
    },
    {
      "cell_type": "markdown",
      "metadata": {
        "id": "1AffpeMepPiV",
        "colab_type": "text"
      },
      "source": [
        "## Model\n",
        "#### Check the Version of TensorFlow\n",
        "This will check to make sure you have the correct version of TensorFlow"
      ]
    },
    {
      "cell_type": "code",
      "metadata": {
        "id": "ynpYHGtRpPiV",
        "colab_type": "code",
        "colab": {
          "base_uri": "https://localhost:8080/",
          "height": 34
        },
        "outputId": "4dcb2d5f-486e-45f9-ca82-585baaaa6c71"
      },
      "source": [
        "from distutils.version import LooseVersion\n",
        "import tensorflow as tf\n",
        "from tensorflow.python.layers.core import Dense\n",
        "\n",
        "\n",
        "# Check TensorFlow Version\n",
        "assert LooseVersion(tf.__version__) >= LooseVersion('1.1'), 'Please use TensorFlow version 1.1 or newer'\n",
        "print('TensorFlow Version: {}'.format(tf.__version__))"
      ],
      "execution_count": 5,
      "outputs": [
        {
          "output_type": "stream",
          "text": [
            "TensorFlow Version: 1.15.2\n"
          ],
          "name": "stdout"
        }
      ]
    },
    {
      "cell_type": "markdown",
      "metadata": {
        "id": "7M89byehpPiZ",
        "colab_type": "text"
      },
      "source": [
        "### Hyperparameters"
      ]
    },
    {
      "cell_type": "code",
      "metadata": {
        "id": "sQZPXi6FpPia",
        "colab_type": "code",
        "colab": {}
      },
      "source": [
        "# Number of Epochs\n",
        "epochs = 60\n",
        "# Batch Size\n",
        "batch_size = 128\n",
        "# RNN Size\n",
        "rnn_size = 50\n",
        "# Number of Layers\n",
        "num_layers = 2\n",
        "# Embedding Size\n",
        "encoding_embedding_size = 15\n",
        "decoding_embedding_size = 15\n",
        "# Learning Rate\n",
        "learning_rate = 0.001"
      ],
      "execution_count": 6,
      "outputs": []
    },
    {
      "cell_type": "markdown",
      "metadata": {
        "id": "41I0MFsGpPid",
        "colab_type": "text"
      },
      "source": [
        "### Input"
      ]
    },
    {
      "cell_type": "code",
      "metadata": {
        "id": "uSqsm-JlpPie",
        "colab_type": "code",
        "colab": {}
      },
      "source": [
        "def get_model_inputs():\n",
        "    input_data = tf.placeholder(tf.int32, [None, None], name='input')\n",
        "    targets = tf.placeholder(tf.int32, [None, None], name='targets')\n",
        "    lr = tf.placeholder(tf.float32, name='learning_rate')\n",
        "\n",
        "    target_sequence_length = tf.placeholder(tf.int32, (None,), name='target_sequence_length')\n",
        "    max_target_sequence_length = tf.reduce_max(target_sequence_length, name='max_target_len')\n",
        "    source_sequence_length = tf.placeholder(tf.int32, (None,), name='source_sequence_length')\n",
        "    \n",
        "    return input_data, targets, lr, target_sequence_length, max_target_sequence_length, source_sequence_length\n"
      ],
      "execution_count": 7,
      "outputs": []
    },
    {
      "cell_type": "markdown",
      "metadata": {
        "id": "3ZIeeTUypPih",
        "colab_type": "text"
      },
      "source": [
        "### Sequence to Sequence Model\n",
        "\n",
        "We can now start defining the functions that will build the seq2seq model. We are building it from the bottom up with the following components:\n",
        "\n",
        "    2.1 Encoder\n",
        "        - Embedding\n",
        "        - Encoder cell\n",
        "    2.2 Decoder\n",
        "        1- Process decoder inputs\n",
        "        2- Set up the decoder\n",
        "            - Embedding\n",
        "            - Decoder cell\n",
        "            - Dense output layer\n",
        "            - Training decoder\n",
        "            - Inference decoder\n",
        "    2.3 Seq2seq model connecting the encoder and decoder\n",
        "    2.4 Build the training graph hooking up the model with the \n",
        "        optimizer\n",
        "\n"
      ]
    },
    {
      "cell_type": "markdown",
      "metadata": {
        "id": "LCpIk2rnpPih",
        "colab_type": "text"
      },
      "source": [
        "### 2.1 Encoder\n",
        "\n",
        "The first bit of the model we'll build is the encoder. Here, we'll embed the input data, construct our encoder, then pass the embedded data to the encoder.\n",
        "\n",
        "- Embed the input data using [`tf.contrib.layers.embed_sequence`](https://www.tensorflow.org/api_docs/python/tf/contrib/layers/embed_sequence)\n",
        "<img src=\"images/embed_sequence.png\" />\n",
        "\n",
        "- Pass the embedded input into a stack of RNNs.  Save the RNN state and ignore the output.\n",
        "<img src=\"images/encoder.png\" />"
      ]
    },
    {
      "cell_type": "code",
      "metadata": {
        "scrolled": true,
        "id": "VK1OzcTwpPii",
        "colab_type": "code",
        "colab": {}
      },
      "source": [
        "def encoding_layer(input_data, rnn_size, num_layers,\n",
        "                   source_sequence_length, source_vocab_size, \n",
        "                   encoding_embedding_size):\n",
        "\n",
        "\n",
        "    # Encoder embedding\n",
        "    enc_embed_input = tf.contrib.layers.embed_sequence(input_data, source_vocab_size, encoding_embedding_size)\n",
        "\n",
        "    # RNN cell\n",
        "    def make_cell(rnn_size):\n",
        "        enc_cell = tf.contrib.rnn.LSTMCell(rnn_size,\n",
        "                                           initializer=tf.random_uniform_initializer(-0.1, 0.1, seed=2))\n",
        "        return enc_cell\n",
        "\n",
        "    enc_cell = tf.contrib.rnn.MultiRNNCell([make_cell(rnn_size) for _ in range(num_layers)])\n",
        "    \n",
        "    enc_output, enc_state = tf.nn.dynamic_rnn(enc_cell, enc_embed_input, sequence_length=source_sequence_length, dtype=tf.float32)\n",
        "    \n",
        "    return enc_output, enc_state"
      ],
      "execution_count": 8,
      "outputs": []
    },
    {
      "cell_type": "markdown",
      "metadata": {
        "id": "JThjMV8wpPin",
        "colab_type": "text"
      },
      "source": [
        "## 2.2 Decoder\n",
        "\n",
        "The decoder is probably the most involved part of this model. The following steps are needed to create it:\n",
        "\n",
        "    1- Process decoder inputs\n",
        "    2- Set up the decoder components\n",
        "        - Embedding\n",
        "        - Decoder cell\n",
        "        - Dense output layer\n",
        "        - Training decoder\n",
        "        - Inference decoder\n",
        "\n",
        "\n",
        "### Process Decoder Input\n",
        "\n",
        "\n",
        "In the training process, the target sequences will be used in two different places:\n",
        "\n",
        " 1. Using them to calculate the loss\n",
        " 2. Feeding them to the decoder during training to make the model more robust.\n",
        "\n",
        "Now we need to address the second point. Let's assume our targets look like this in their letter/word form (we're doing this for readibility. At this point in the code, these sequences would be in int form):\n",
        "\n",
        "\n",
        "<img src=\"images/targets_1.png\"/>\n",
        "\n",
        "We need to do a simple transformation on the tensor before feeding it to the decoder:\n",
        "\n",
        "1- We will feed an item of the sequence to the decoder at each time step. Think about the last timestep -- where the decoder outputs the final word in its output. The input to that step is the item before last from the target sequence. The decoder has no use for the last item in the target sequence in this scenario. So we'll need to remove the last item. \n",
        "\n",
        "We do that using tensorflow's tf.strided_slice() method. We hand it the tensor, and the index of where to start and where to end the cutting.\n",
        "\n",
        "<img src=\"images/strided_slice_1.png\"/>\n",
        "\n",
        "2- The first item in each sequence we feed to the decoder has to be GO symbol. So We'll add that to the beginning.\n",
        "\n",
        "\n",
        "<img src=\"images/targets_add_go.png\"/>\n",
        "\n",
        "\n",
        "Now the tensor is ready to be fed to the decoder. It looks like this (if we convert from ints to letters/symbols):\n",
        "\n",
        "<img src=\"images/targets_after_processing_1.png\"/>"
      ]
    },
    {
      "cell_type": "code",
      "metadata": {
        "id": "SQShww3RpPin",
        "colab_type": "code",
        "colab": {}
      },
      "source": [
        "# Process the input we'll feed to the decoder\n",
        "def process_decoder_input(target_data, vocab_to_int, batch_size):\n",
        "    '''Remove the last word id from each batch and concat the <GO> to the begining of each batch'''\n",
        "    ending = tf.strided_slice(target_data, [0, 0], [batch_size, -1], [1, 1])\n",
        "    dec_input = tf.concat([tf.fill([batch_size, 1], vocab_to_int['<GO>']), ending], 1)\n",
        "\n",
        "    return dec_input"
      ],
      "execution_count": 9,
      "outputs": []
    },
    {
      "cell_type": "markdown",
      "metadata": {
        "id": "7OC835PPpPis",
        "colab_type": "text"
      },
      "source": [
        "\n",
        "### Set up the decoder components\n",
        "\n",
        "        - Embedding\n",
        "        - Decoder cell\n",
        "        - Dense output layer\n",
        "        - Training decoder\n",
        "        - Inference decoder\n",
        "\n",
        "#### 1- Embedding\n",
        "Now that we have prepared the inputs to the training decoder, we need to embed them so they can be ready to be passed to the decoder. \n",
        "\n",
        "We'll create an embedding matrix like the following then have tf.nn.embedding_lookup convert our input to its embedded equivalent:\n",
        "<img src=\"images/embeddings.png\" />\n",
        "\n",
        "#### 2- Decoder Cell\n",
        "Then we declare our decoder cell. Just like the encoder, we'll use an tf.contrib.rnn.LSTMCell here as well.\n",
        "\n",
        "We need to declare a decoder for the training process, and a decoder for the inference/prediction process. These two decoders will share their parameters (so that all the weights and biases that are set during the training phase can be used when we deploy the model).\n",
        "\n",
        "First, we'll need to define the type of cell we'll be using for our decoder RNNs. We opted for LSTM.\n",
        "\n",
        "#### 3- Dense output layer\n",
        "Before we move to declaring our decoders, we'll need to create the output layer, which will be a tensorflow.python.layers.core.Dense layer that translates the outputs of the decoder to logits that tell us which element of the decoder vocabulary the decoder is choosing to output at each time step.\n",
        "\n",
        "#### 4- Training decoder\n",
        "Essentially, we'll be creating two decoders which share their parameters. One for training and one for inference. The two are similar in that both created using tf.contrib.seq2seq.**BasicDecoder** and tf.contrib.seq2seq.**dynamic_decode**. They differ, however, in that we feed the the target sequences as inputs to the training decoder at each time step to make it more robust.\n",
        "\n",
        "We can think of the training decoder as looking like this (except that it works with sequences in batches):\n",
        "<img src=\"images/sequence-to-sequence-training-decoder.png\"/>\n",
        "\n",
        "The training decoder **does not** feed the output of each time step to the next. Rather, the inputs to the decoder time steps are the target sequence from the training dataset (the orange letters).\n",
        "\n",
        "#### 5- Inference decoder\n",
        "The inference decoder is the one we'll use when we deploy our model to the wild.\n",
        "\n",
        "<img src=\"images/sequence-to-sequence-inference-decoder.png\"/>\n",
        "\n",
        "We'll hand our encoder hidden state to both the training and inference decoders and have it process its output. TensorFlow handles most of the logic for us. We just have to use the appropriate methods from tf.contrib.seq2seq and supply them with the appropriate inputs.\n"
      ]
    },
    {
      "cell_type": "code",
      "metadata": {
        "id": "yW7rXgb8pPit",
        "colab_type": "code",
        "colab": {}
      },
      "source": [
        "def decoding_layer(target_letter_to_int, decoding_embedding_size, num_layers, rnn_size,\n",
        "                   target_sequence_length, max_target_sequence_length, enc_state, dec_input):\n",
        "    # 1. Decoder Embedding\n",
        "    target_vocab_size = len(target_letter_to_int)\n",
        "    dec_embeddings = tf.Variable(tf.random_uniform([target_vocab_size, decoding_embedding_size]))\n",
        "    dec_embed_input = tf.nn.embedding_lookup(dec_embeddings, dec_input)\n",
        "\n",
        "    # 2. Construct the decoder cell\n",
        "    def make_cell(rnn_size):\n",
        "        dec_cell = tf.contrib.rnn.LSTMCell(rnn_size,\n",
        "                                           initializer=tf.random_uniform_initializer(-0.1, 0.1, seed=2))\n",
        "        return dec_cell\n",
        "\n",
        "    dec_cell = tf.contrib.rnn.MultiRNNCell([make_cell(rnn_size) for _ in range(num_layers)])\n",
        "     \n",
        "    # 3. Dense layer to translate the decoder's output at each time \n",
        "    # step into a choice from the target vocabulary\n",
        "    output_layer = Dense(target_vocab_size,\n",
        "                         kernel_initializer = tf.truncated_normal_initializer(mean = 0.0, stddev=0.1))\n",
        "\n",
        "\n",
        "    # 4. Set up a training decoder and an inference decoder\n",
        "    # Training Decoder\n",
        "    with tf.variable_scope(\"decode\"):\n",
        "\n",
        "        # Helper for the training process. Used by BasicDecoder to read inputs.\n",
        "        training_helper = tf.contrib.seq2seq.TrainingHelper(inputs=dec_embed_input,\n",
        "                                                            sequence_length=target_sequence_length,\n",
        "                                                            time_major=False)\n",
        "        \n",
        "        \n",
        "        # Basic decoder\n",
        "        training_decoder = tf.contrib.seq2seq.BasicDecoder(dec_cell,\n",
        "                                                           training_helper,\n",
        "                                                           enc_state,\n",
        "                                                           output_layer) \n",
        "        \n",
        "        # Perform dynamic decoding using the decoder\n",
        "        training_decoder_output = tf.contrib.seq2seq.dynamic_decode(training_decoder,\n",
        "                                                                       impute_finished=True,\n",
        "                                                                       maximum_iterations=max_target_sequence_length)[0]\n",
        "    # 5. Inference Decoder\n",
        "    # Reuses the same parameters trained by the training process\n",
        "    with tf.variable_scope(\"decode\", reuse=True):\n",
        "        start_tokens = tf.tile(tf.constant([target_letter_to_int['<GO>']], dtype=tf.int32), [batch_size], name='start_tokens')\n",
        "\n",
        "        # Helper for the inference process.\n",
        "        inference_helper = tf.contrib.seq2seq.GreedyEmbeddingHelper(dec_embeddings,\n",
        "                                                                start_tokens,\n",
        "                                                                target_letter_to_int['<EOS>'])\n",
        "\n",
        "        # Basic decoder\n",
        "        inference_decoder = tf.contrib.seq2seq.BasicDecoder(dec_cell,\n",
        "                                                        inference_helper,\n",
        "                                                        enc_state,\n",
        "                                                        output_layer)\n",
        "        \n",
        "        # Perform dynamic decoding using the decoder\n",
        "        inference_decoder_output = tf.contrib.seq2seq.dynamic_decode(inference_decoder,\n",
        "                                                            impute_finished=True,\n",
        "                                                            maximum_iterations=max_target_sequence_length)[0]\n",
        "         \n",
        "\n",
        "    \n",
        "    return training_decoder_output, inference_decoder_output"
      ],
      "execution_count": 10,
      "outputs": []
    },
    {
      "cell_type": "markdown",
      "metadata": {
        "id": "JN1JeWqPpPiw",
        "colab_type": "text"
      },
      "source": [
        "## 2.3 Seq2seq model \n",
        "Let's now go a step above, and hook up the encoder and decoder using the methods we just declared"
      ]
    },
    {
      "cell_type": "code",
      "metadata": {
        "id": "_6hummP4pPix",
        "colab_type": "code",
        "colab": {}
      },
      "source": [
        "\n",
        "def seq2seq_model(input_data, targets, lr, target_sequence_length, \n",
        "                  max_target_sequence_length, source_sequence_length,\n",
        "                  source_vocab_size, target_vocab_size,\n",
        "                  enc_embedding_size, dec_embedding_size, \n",
        "                  rnn_size, num_layers):\n",
        "    \n",
        "    # Pass the input data through the encoder. We'll ignore the encoder output, but use the state\n",
        "    _, enc_state = encoding_layer(input_data, \n",
        "                                  rnn_size, \n",
        "                                  num_layers, \n",
        "                                  source_sequence_length,\n",
        "                                  source_vocab_size, \n",
        "                                  encoding_embedding_size)\n",
        "    \n",
        "    \n",
        "    # Prepare the target sequences we'll feed to the decoder in training mode\n",
        "    dec_input = process_decoder_input(targets, target_letter_to_int, batch_size)\n",
        "    \n",
        "    # Pass encoder state and decoder inputs to the decoders\n",
        "    training_decoder_output, inference_decoder_output = decoding_layer(target_letter_to_int, \n",
        "                                                                       decoding_embedding_size, \n",
        "                                                                       num_layers, \n",
        "                                                                       rnn_size,\n",
        "                                                                       target_sequence_length,\n",
        "                                                                       max_target_sequence_length,\n",
        "                                                                       enc_state, \n",
        "                                                                       dec_input) \n",
        "    \n",
        "    return training_decoder_output, inference_decoder_output\n",
        "    \n",
        "\n"
      ],
      "execution_count": 11,
      "outputs": []
    },
    {
      "cell_type": "markdown",
      "metadata": {
        "id": "IZnyMV2NpPiz",
        "colab_type": "text"
      },
      "source": [
        "Model outputs *training_decoder_output* and *inference_decoder_output* both contain a 'rnn_output' logits tensor that looks like this:\n",
        "\n",
        "<img src=\"images/logits.png\"/>\n",
        "\n",
        "The logits we get from the training tensor we'll pass to tf.contrib.seq2seq.**sequence_loss()** to calculate the loss and ultimately the gradient.\n",
        "\n",
        "\n"
      ]
    },
    {
      "cell_type": "code",
      "metadata": {
        "id": "iRlkDTGBpPiz",
        "colab_type": "code",
        "colab": {
          "base_uri": "https://localhost:8080/",
          "height": 474
        },
        "outputId": "47c2d0ea-98cf-4f01-b61b-d5e7fc345349"
      },
      "source": [
        "# Build the graph\n",
        "train_graph = tf.Graph()\n",
        "# Set the graph to default to ensure that it is ready for training\n",
        "with train_graph.as_default():\n",
        "    \n",
        "    # Load the model inputs    \n",
        "    input_data, targets, lr, target_sequence_length, max_target_sequence_length, source_sequence_length = get_model_inputs()\n",
        "    \n",
        "    # Create the training and inference logits\n",
        "    training_decoder_output, inference_decoder_output = seq2seq_model(input_data, \n",
        "                                                                      targets, \n",
        "                                                                      lr, \n",
        "                                                                      target_sequence_length, \n",
        "                                                                      max_target_sequence_length, \n",
        "                                                                      source_sequence_length,\n",
        "                                                                      len(source_letter_to_int),\n",
        "                                                                      len(target_letter_to_int),\n",
        "                                                                      encoding_embedding_size, \n",
        "                                                                      decoding_embedding_size, \n",
        "                                                                      rnn_size, \n",
        "                                                                      num_layers)    \n",
        "    \n",
        "    # Create tensors for the training logits and inference logits\n",
        "    training_logits = tf.identity(training_decoder_output.rnn_output, 'logits')\n",
        "    inference_logits = tf.identity(inference_decoder_output.sample_id, name='predictions')\n",
        "    \n",
        "    # Create the weights for sequence_loss\n",
        "    masks = tf.sequence_mask(target_sequence_length, max_target_sequence_length, dtype=tf.float32, name='masks')\n",
        "\n",
        "    with tf.name_scope(\"optimization\"):\n",
        "        \n",
        "        # Loss function\n",
        "        cost = tf.contrib.seq2seq.sequence_loss(\n",
        "            training_logits,\n",
        "            targets,\n",
        "            masks)\n",
        "\n",
        "        # Optimizer\n",
        "        optimizer = tf.train.AdamOptimizer(lr)\n",
        "\n",
        "        # Gradient Clipping\n",
        "        gradients = optimizer.compute_gradients(cost)\n",
        "        capped_gradients = [(tf.clip_by_value(grad, -5., 5.), var) for grad, var in gradients if grad is not None]\n",
        "        train_op = optimizer.apply_gradients(capped_gradients)\n"
      ],
      "execution_count": 12,
      "outputs": [
        {
          "output_type": "stream",
          "text": [
            "WARNING:tensorflow:\n",
            "The TensorFlow contrib module will not be included in TensorFlow 2.0.\n",
            "For more information, please see:\n",
            "  * https://github.com/tensorflow/community/blob/master/rfcs/20180907-contrib-sunset.md\n",
            "  * https://github.com/tensorflow/addons\n",
            "  * https://github.com/tensorflow/io (for I/O related ops)\n",
            "If you depend on functionality not listed there, please file an issue.\n",
            "\n",
            "WARNING:tensorflow:From <ipython-input-8-f1038f8014c1>:12: LSTMCell.__init__ (from tensorflow.python.ops.rnn_cell_impl) is deprecated and will be removed in a future version.\n",
            "Instructions for updating:\n",
            "This class is equivalent as tf.keras.layers.LSTMCell, and will be replaced by that in Tensorflow 2.0.\n",
            "WARNING:tensorflow:From <ipython-input-8-f1038f8014c1>:15: MultiRNNCell.__init__ (from tensorflow.python.ops.rnn_cell_impl) is deprecated and will be removed in a future version.\n",
            "Instructions for updating:\n",
            "This class is equivalent as tf.keras.layers.StackedRNNCells, and will be replaced by that in Tensorflow 2.0.\n",
            "WARNING:tensorflow:From <ipython-input-8-f1038f8014c1>:17: dynamic_rnn (from tensorflow.python.ops.rnn) is deprecated and will be removed in a future version.\n",
            "Instructions for updating:\n",
            "Please use `keras.layers.RNN(cell)`, which is equivalent to this API\n",
            "WARNING:tensorflow:From /tensorflow-1.15.2/python3.6/tensorflow_core/python/ops/rnn_cell_impl.py:958: Layer.add_variable (from tensorflow.python.keras.engine.base_layer) is deprecated and will be removed in a future version.\n",
            "Instructions for updating:\n",
            "Please use `layer.add_weight` method instead.\n",
            "WARNING:tensorflow:From /tensorflow-1.15.2/python3.6/tensorflow_core/python/ops/rnn_cell_impl.py:962: calling Zeros.__init__ (from tensorflow.python.ops.init_ops) with dtype is deprecated and will be removed in a future version.\n",
            "Instructions for updating:\n",
            "Call initializer instance with the dtype argument instead of passing it to the constructor\n",
            "WARNING:tensorflow:From /tensorflow-1.15.2/python3.6/tensorflow_core/python/ops/rnn.py:244: where (from tensorflow.python.ops.array_ops) is deprecated and will be removed in a future version.\n",
            "Instructions for updating:\n",
            "Use tf.where in 2.0, which has the same broadcast rule as np.where\n"
          ],
          "name": "stdout"
        }
      ]
    },
    {
      "cell_type": "markdown",
      "metadata": {
        "id": "XWy3_H6UpPi2",
        "colab_type": "text"
      },
      "source": [
        "## Get Batches\n",
        "\n",
        "There's little processing involved when we retreive the batches. This is a simple example assuming batch_size = 2\n",
        "\n",
        "Source sequences (it's actually in int form, we're showing the characters for clarity):\n",
        "\n",
        "<img src=\"/content/source_batch.png\" />\n",
        "\n",
        "Target sequences (also in int, but showing letters for clarity):\n",
        "\n",
        "<img src=\"/content/target_batch.png\" />"
      ]
    },
    {
      "cell_type": "code",
      "metadata": {
        "id": "CuhdCCCdpPi3",
        "colab_type": "code",
        "colab": {}
      },
      "source": [
        "def pad_sentence_batch(sentence_batch, pad_int):\n",
        "    \"\"\"Pad sentences with <PAD> so that each sentence of a batch has the same length\"\"\"\n",
        "    max_sentence = max([len(sentence) for sentence in sentence_batch])\n",
        "    return [sentence + [pad_int] * (max_sentence - len(sentence)) for sentence in sentence_batch]"
      ],
      "execution_count": 13,
      "outputs": []
    },
    {
      "cell_type": "code",
      "metadata": {
        "id": "33vny5b7pPi5",
        "colab_type": "code",
        "colab": {}
      },
      "source": [
        "def get_batches(targets, sources, batch_size, source_pad_int, target_pad_int):\n",
        "    \"\"\"Batch targets, sources, and the lengths of their sentences together\"\"\"\n",
        "    for batch_i in range(0, len(sources)//batch_size):\n",
        "        start_i = batch_i * batch_size\n",
        "        sources_batch = sources[start_i:start_i + batch_size]\n",
        "        targets_batch = targets[start_i:start_i + batch_size]\n",
        "        pad_sources_batch = np.array(pad_sentence_batch(sources_batch, source_pad_int))\n",
        "        pad_targets_batch = np.array(pad_sentence_batch(targets_batch, target_pad_int))\n",
        "        \n",
        "        # Need the lengths for the _lengths parameters\n",
        "        pad_targets_lengths = []\n",
        "        for target in pad_targets_batch:\n",
        "            pad_targets_lengths.append(len(target))\n",
        "        \n",
        "        pad_source_lengths = []\n",
        "        for source in pad_sources_batch:\n",
        "            pad_source_lengths.append(len(source))\n",
        "        \n",
        "        yield pad_targets_batch, pad_sources_batch, pad_targets_lengths, pad_source_lengths"
      ],
      "execution_count": 14,
      "outputs": []
    },
    {
      "cell_type": "markdown",
      "metadata": {
        "id": "qhNzt6BHpPi8",
        "colab_type": "text"
      },
      "source": [
        "## Train\n",
        "We're now ready to train our model. If you run into OOM (out of memory) issues during training, try to decrease the batch_size."
      ]
    },
    {
      "cell_type": "code",
      "metadata": {
        "scrolled": false,
        "id": "IJLxydgdpPi8",
        "colab_type": "code",
        "colab": {
          "base_uri": "https://localhost:8080/",
          "height": 1000
        },
        "outputId": "e824288b-9b2f-4cbe-813e-2bf0d1ad2f7f"
      },
      "source": [
        "# Split data to training and validation sets\n",
        "train_source = source_letter_ids[batch_size:]\n",
        "train_target = target_letter_ids[batch_size:]\n",
        "valid_source = source_letter_ids[:batch_size]\n",
        "valid_target = target_letter_ids[:batch_size]\n",
        "(valid_targets_batch, valid_sources_batch, valid_targets_lengths, valid_sources_lengths) = next(get_batches(valid_target, valid_source, batch_size,\n",
        "                           source_letter_to_int['<PAD>'],\n",
        "                           target_letter_to_int['<PAD>']))\n",
        "\n",
        "display_step = 20 # Check training loss after every 20 batches\n",
        "\n",
        "checkpoint = \"best_model.ckpt\" \n",
        "with tf.Session(graph=train_graph) as sess:\n",
        "    sess.run(tf.global_variables_initializer())\n",
        "        \n",
        "    for epoch_i in range(1, epochs+1):\n",
        "        for batch_i, (targets_batch, sources_batch, targets_lengths, sources_lengths) in enumerate(\n",
        "                get_batches(train_target, train_source, batch_size,\n",
        "                           source_letter_to_int['<PAD>'],\n",
        "                           target_letter_to_int['<PAD>'])):\n",
        "            \n",
        "            # Training step\n",
        "            _, loss = sess.run(\n",
        "                [train_op, cost],\n",
        "                {input_data: sources_batch,\n",
        "                 targets: targets_batch,\n",
        "                 lr: learning_rate,\n",
        "                 target_sequence_length: targets_lengths,\n",
        "                 source_sequence_length: sources_lengths})\n",
        "\n",
        "            # Debug message updating us on the status of the training\n",
        "            if batch_i % display_step == 0 and batch_i > 0:\n",
        "                \n",
        "                # Calculate validation cost\n",
        "                validation_loss = sess.run(\n",
        "                [cost],\n",
        "                {input_data: valid_sources_batch,\n",
        "                 targets: valid_targets_batch,\n",
        "                 lr: learning_rate,\n",
        "                 target_sequence_length: valid_targets_lengths,\n",
        "                 source_sequence_length: valid_sources_lengths})\n",
        "                \n",
        "                print('Epoch {:>3}/{} Batch {:>4}/{} - Loss: {:>6.3f}  - Validation loss: {:>6.3f}'\n",
        "                      .format(epoch_i,\n",
        "                              epochs, \n",
        "                              batch_i, \n",
        "                              len(train_source) // batch_size, \n",
        "                              loss, \n",
        "                              validation_loss[0]))\n",
        "\n",
        "    \n",
        "    \n",
        "    # Save Model\n",
        "    saver = tf.train.Saver()\n",
        "    saver.save(sess, checkpoint)\n",
        "    print('Model Trained and Saved')"
      ],
      "execution_count": 15,
      "outputs": [
        {
          "output_type": "stream",
          "text": [
            "Epoch   1/60 Batch   20/77 - Loss:  2.379  - Validation loss:  2.411\n",
            "Epoch   1/60 Batch   40/77 - Loss:  2.277  - Validation loss:  2.236\n",
            "Epoch   1/60 Batch   60/77 - Loss:  2.000  - Validation loss:  2.037\n",
            "Epoch   2/60 Batch   20/77 - Loss:  1.686  - Validation loss:  1.761\n",
            "Epoch   2/60 Batch   40/77 - Loss:  1.695  - Validation loss:  1.649\n",
            "Epoch   2/60 Batch   60/77 - Loss:  1.522  - Validation loss:  1.552\n",
            "Epoch   3/60 Batch   20/77 - Loss:  1.380  - Validation loss:  1.452\n",
            "Epoch   3/60 Batch   40/77 - Loss:  1.460  - Validation loss:  1.422\n",
            "Epoch   3/60 Batch   60/77 - Loss:  1.354  - Validation loss:  1.389\n",
            "Epoch   4/60 Batch   20/77 - Loss:  1.220  - Validation loss:  1.284\n",
            "Epoch   4/60 Batch   40/77 - Loss:  1.277  - Validation loss:  1.242\n",
            "Epoch   4/60 Batch   60/77 - Loss:  1.161  - Validation loss:  1.202\n",
            "Epoch   5/60 Batch   20/77 - Loss:  1.111  - Validation loss:  1.155\n",
            "Epoch   5/60 Batch   40/77 - Loss:  1.172  - Validation loss:  1.135\n",
            "Epoch   5/60 Batch   60/77 - Loss:  1.068  - Validation loss:  1.105\n",
            "Epoch   6/60 Batch   20/77 - Loss:  0.998  - Validation loss:  1.055\n",
            "Epoch   6/60 Batch   40/77 - Loss:  1.039  - Validation loss:  1.029\n",
            "Epoch   6/60 Batch   60/77 - Loss:  0.951  - Validation loss:  0.999\n",
            "Epoch   7/60 Batch   20/77 - Loss:  0.895  - Validation loss:  0.967\n",
            "Epoch   7/60 Batch   40/77 - Loss:  0.940  - Validation loss:  0.948\n",
            "Epoch   7/60 Batch   60/77 - Loss:  0.864  - Validation loss:  0.922\n",
            "Epoch   8/60 Batch   20/77 - Loss:  0.803  - Validation loss:  0.880\n",
            "Epoch   8/60 Batch   40/77 - Loss:  0.840  - Validation loss:  0.852\n",
            "Epoch   8/60 Batch   60/77 - Loss:  1.125  - Validation loss:  0.989\n",
            "Epoch   9/60 Batch   20/77 - Loss:  0.735  - Validation loss:  0.808\n",
            "Epoch   9/60 Batch   40/77 - Loss:  0.775  - Validation loss:  0.788\n",
            "Epoch   9/60 Batch   60/77 - Loss:  0.713  - Validation loss:  0.771\n",
            "Epoch  10/60 Batch   20/77 - Loss:  0.678  - Validation loss:  0.748\n",
            "Epoch  10/60 Batch   40/77 - Loss:  0.719  - Validation loss:  0.733\n",
            "Epoch  10/60 Batch   60/77 - Loss:  0.663  - Validation loss:  0.718\n",
            "Epoch  11/60 Batch   20/77 - Loss:  0.637  - Validation loss:  0.701\n",
            "Epoch  11/60 Batch   40/77 - Loss:  0.677  - Validation loss:  0.689\n",
            "Epoch  11/60 Batch   60/77 - Loss:  0.625  - Validation loss:  0.677\n",
            "Epoch  12/60 Batch   20/77 - Loss:  0.602  - Validation loss:  0.664\n",
            "Epoch  12/60 Batch   40/77 - Loss:  0.642  - Validation loss:  0.654\n",
            "Epoch  12/60 Batch   60/77 - Loss:  0.594  - Validation loss:  0.640\n",
            "Epoch  13/60 Batch   20/77 - Loss:  0.568  - Validation loss:  0.627\n",
            "Epoch  13/60 Batch   40/77 - Loss:  0.609  - Validation loss:  0.618\n",
            "Epoch  13/60 Batch   60/77 - Loss:  0.561  - Validation loss:  0.603\n",
            "Epoch  14/60 Batch   20/77 - Loss:  0.530  - Validation loss:  0.588\n",
            "Epoch  14/60 Batch   40/77 - Loss:  0.574  - Validation loss:  0.580\n",
            "Epoch  14/60 Batch   60/77 - Loss:  0.528  - Validation loss:  0.566\n",
            "Epoch  15/60 Batch   20/77 - Loss:  0.497  - Validation loss:  0.550\n",
            "Epoch  15/60 Batch   40/77 - Loss:  0.543  - Validation loss:  0.545\n",
            "Epoch  15/60 Batch   60/77 - Loss:  0.496  - Validation loss:  0.530\n",
            "Epoch  16/60 Batch   20/77 - Loss:  0.462  - Validation loss:  0.513\n",
            "Epoch  16/60 Batch   40/77 - Loss:  0.510  - Validation loss:  0.505\n",
            "Epoch  16/60 Batch   60/77 - Loss:  0.461  - Validation loss:  0.490\n",
            "Epoch  17/60 Batch   20/77 - Loss:  0.428  - Validation loss:  0.476\n",
            "Epoch  17/60 Batch   40/77 - Loss:  0.476  - Validation loss:  0.468\n",
            "Epoch  17/60 Batch   60/77 - Loss:  0.427  - Validation loss:  0.456\n",
            "Epoch  18/60 Batch   20/77 - Loss:  0.401  - Validation loss:  0.446\n",
            "Epoch  18/60 Batch   40/77 - Loss:  0.443  - Validation loss:  0.437\n",
            "Epoch  18/60 Batch   60/77 - Loss:  0.393  - Validation loss:  0.426\n",
            "Epoch  19/60 Batch   20/77 - Loss:  0.374  - Validation loss:  0.415\n",
            "Epoch  19/60 Batch   40/77 - Loss:  0.411  - Validation loss:  0.407\n",
            "Epoch  19/60 Batch   60/77 - Loss:  0.360  - Validation loss:  0.395\n",
            "Epoch  20/60 Batch   20/77 - Loss:  0.345  - Validation loss:  0.383\n",
            "Epoch  20/60 Batch   40/77 - Loss:  0.381  - Validation loss:  0.377\n",
            "Epoch  20/60 Batch   60/77 - Loss:  0.332  - Validation loss:  0.369\n",
            "Epoch  21/60 Batch   20/77 - Loss:  0.323  - Validation loss:  0.357\n",
            "Epoch  21/60 Batch   40/77 - Loss:  0.351  - Validation loss:  0.352\n",
            "Epoch  21/60 Batch   60/77 - Loss:  0.308  - Validation loss:  0.342\n",
            "Epoch  22/60 Batch   20/77 - Loss:  0.298  - Validation loss:  0.333\n",
            "Epoch  22/60 Batch   40/77 - Loss:  0.324  - Validation loss:  0.325\n",
            "Epoch  22/60 Batch   60/77 - Loss:  0.295  - Validation loss:  0.324\n",
            "Epoch  23/60 Batch   20/77 - Loss:  0.269  - Validation loss:  0.315\n",
            "Epoch  23/60 Batch   40/77 - Loss:  0.302  - Validation loss:  0.301\n",
            "Epoch  23/60 Batch   60/77 - Loss:  0.268  - Validation loss:  0.301\n",
            "Epoch  24/60 Batch   20/77 - Loss:  0.241  - Validation loss:  0.286\n",
            "Epoch  24/60 Batch   40/77 - Loss:  0.271  - Validation loss:  0.334\n",
            "Epoch  24/60 Batch   60/77 - Loss:  0.275  - Validation loss:  0.293\n",
            "Epoch  25/60 Batch   20/77 - Loss:  0.228  - Validation loss:  0.261\n",
            "Epoch  25/60 Batch   40/77 - Loss:  0.250  - Validation loss:  0.253\n",
            "Epoch  25/60 Batch   60/77 - Loss:  0.223  - Validation loss:  0.247\n",
            "Epoch  26/60 Batch   20/77 - Loss:  0.206  - Validation loss:  0.237\n",
            "Epoch  26/60 Batch   40/77 - Loss:  0.230  - Validation loss:  0.235\n",
            "Epoch  26/60 Batch   60/77 - Loss:  0.209  - Validation loss:  0.227\n",
            "Epoch  27/60 Batch   20/77 - Loss:  0.188  - Validation loss:  0.219\n",
            "Epoch  27/60 Batch   40/77 - Loss:  0.212  - Validation loss:  0.220\n",
            "Epoch  27/60 Batch   60/77 - Loss:  0.192  - Validation loss:  0.208\n",
            "Epoch  28/60 Batch   20/77 - Loss:  0.171  - Validation loss:  0.201\n",
            "Epoch  28/60 Batch   40/77 - Loss:  0.195  - Validation loss:  0.199\n",
            "Epoch  28/60 Batch   60/77 - Loss:  0.175  - Validation loss:  0.191\n",
            "Epoch  29/60 Batch   20/77 - Loss:  0.155  - Validation loss:  0.184\n",
            "Epoch  29/60 Batch   40/77 - Loss:  0.178  - Validation loss:  0.182\n",
            "Epoch  29/60 Batch   60/77 - Loss:  0.158  - Validation loss:  0.175\n",
            "Epoch  30/60 Batch   20/77 - Loss:  0.141  - Validation loss:  0.168\n",
            "Epoch  30/60 Batch   40/77 - Loss:  0.164  - Validation loss:  0.168\n",
            "Epoch  30/60 Batch   60/77 - Loss:  0.144  - Validation loss:  0.160\n",
            "Epoch  31/60 Batch   20/77 - Loss:  0.128  - Validation loss:  0.154\n",
            "Epoch  31/60 Batch   40/77 - Loss:  0.150  - Validation loss:  0.157\n",
            "Epoch  31/60 Batch   60/77 - Loss:  0.131  - Validation loss:  0.147\n",
            "Epoch  32/60 Batch   20/77 - Loss:  0.116  - Validation loss:  0.142\n",
            "Epoch  32/60 Batch   40/77 - Loss:  0.136  - Validation loss:  0.143\n",
            "Epoch  32/60 Batch   60/77 - Loss:  0.120  - Validation loss:  0.136\n",
            "Epoch  33/60 Batch   20/77 - Loss:  0.105  - Validation loss:  0.130\n",
            "Epoch  33/60 Batch   40/77 - Loss:  0.124  - Validation loss:  0.132\n",
            "Epoch  33/60 Batch   60/77 - Loss:  0.109  - Validation loss:  0.126\n",
            "Epoch  34/60 Batch   20/77 - Loss:  0.097  - Validation loss:  0.123\n",
            "Epoch  34/60 Batch   40/77 - Loss:  0.112  - Validation loss:  0.116\n",
            "Epoch  34/60 Batch   60/77 - Loss:  0.099  - Validation loss:  0.120\n",
            "Epoch  35/60 Batch   20/77 - Loss:  0.087  - Validation loss:  0.112\n",
            "Epoch  35/60 Batch   40/77 - Loss:  0.101  - Validation loss:  0.111\n",
            "Epoch  35/60 Batch   60/77 - Loss:  0.090  - Validation loss:  0.107\n",
            "Epoch  36/60 Batch   20/77 - Loss:  0.103  - Validation loss:  0.343\n",
            "Epoch  36/60 Batch   40/77 - Loss:  0.129  - Validation loss:  0.151\n",
            "Epoch  36/60 Batch   60/77 - Loss:  0.095  - Validation loss:  0.108\n",
            "Epoch  37/60 Batch   20/77 - Loss:  0.074  - Validation loss:  0.097\n",
            "Epoch  37/60 Batch   40/77 - Loss:  0.087  - Validation loss:  0.095\n",
            "Epoch  37/60 Batch   60/77 - Loss:  0.079  - Validation loss:  0.090\n",
            "Epoch  38/60 Batch   20/77 - Loss:  0.066  - Validation loss:  0.088\n",
            "Epoch  38/60 Batch   40/77 - Loss:  0.079  - Validation loss:  0.087\n",
            "Epoch  38/60 Batch   60/77 - Loss:  0.072  - Validation loss:  0.083\n",
            "Epoch  39/60 Batch   20/77 - Loss:  0.060  - Validation loss:  0.081\n",
            "Epoch  39/60 Batch   40/77 - Loss:  0.072  - Validation loss:  0.080\n",
            "Epoch  39/60 Batch   60/77 - Loss:  0.066  - Validation loss:  0.078\n",
            "Epoch  40/60 Batch   20/77 - Loss:  0.055  - Validation loss:  0.075\n",
            "Epoch  40/60 Batch   40/77 - Loss:  0.066  - Validation loss:  0.075\n",
            "Epoch  40/60 Batch   60/77 - Loss:  0.061  - Validation loss:  0.073\n",
            "Epoch  41/60 Batch   20/77 - Loss:  0.051  - Validation loss:  0.070\n",
            "Epoch  41/60 Batch   40/77 - Loss:  0.060  - Validation loss:  0.070\n",
            "Epoch  41/60 Batch   60/77 - Loss:  0.057  - Validation loss:  0.068\n",
            "Epoch  42/60 Batch   20/77 - Loss:  0.047  - Validation loss:  0.066\n",
            "Epoch  42/60 Batch   40/77 - Loss:  0.055  - Validation loss:  0.066\n",
            "Epoch  42/60 Batch   60/77 - Loss:  0.052  - Validation loss:  0.064\n",
            "Epoch  43/60 Batch   20/77 - Loss:  0.044  - Validation loss:  0.061\n",
            "Epoch  43/60 Batch   40/77 - Loss:  0.051  - Validation loss:  0.062\n",
            "Epoch  43/60 Batch   60/77 - Loss:  0.049  - Validation loss:  0.060\n",
            "Epoch  44/60 Batch   20/77 - Loss:  0.040  - Validation loss:  0.057\n",
            "Epoch  44/60 Batch   40/77 - Loss:  0.047  - Validation loss:  0.058\n",
            "Epoch  44/60 Batch   60/77 - Loss:  0.045  - Validation loss:  0.056\n",
            "Epoch  45/60 Batch   20/77 - Loss:  0.037  - Validation loss:  0.054\n",
            "Epoch  45/60 Batch   40/77 - Loss:  0.043  - Validation loss:  0.054\n",
            "Epoch  45/60 Batch   60/77 - Loss:  0.042  - Validation loss:  0.052\n",
            "Epoch  46/60 Batch   20/77 - Loss:  0.034  - Validation loss:  0.050\n",
            "Epoch  46/60 Batch   40/77 - Loss:  0.039  - Validation loss:  0.051\n",
            "Epoch  46/60 Batch   60/77 - Loss:  0.038  - Validation loss:  0.049\n",
            "Epoch  47/60 Batch   20/77 - Loss:  0.032  - Validation loss:  0.047\n",
            "Epoch  47/60 Batch   40/77 - Loss:  0.036  - Validation loss:  0.048\n",
            "Epoch  47/60 Batch   60/77 - Loss:  0.035  - Validation loss:  0.046\n",
            "Epoch  48/60 Batch   20/77 - Loss:  0.029  - Validation loss:  0.044\n",
            "Epoch  48/60 Batch   40/77 - Loss:  0.033  - Validation loss:  0.045\n",
            "Epoch  48/60 Batch   60/77 - Loss:  0.033  - Validation loss:  0.043\n",
            "Epoch  49/60 Batch   20/77 - Loss:  0.027  - Validation loss:  0.042\n",
            "Epoch  49/60 Batch   40/77 - Loss:  0.031  - Validation loss:  0.042\n",
            "Epoch  49/60 Batch   60/77 - Loss:  0.030  - Validation loss:  0.041\n",
            "Epoch  50/60 Batch   20/77 - Loss:  0.025  - Validation loss:  0.039\n",
            "Epoch  50/60 Batch   40/77 - Loss:  0.028  - Validation loss:  0.040\n",
            "Epoch  50/60 Batch   60/77 - Loss:  0.028  - Validation loss:  0.039\n",
            "Epoch  51/60 Batch   20/77 - Loss:  0.023  - Validation loss:  0.037\n",
            "Epoch  51/60 Batch   40/77 - Loss:  0.026  - Validation loss:  0.037\n",
            "Epoch  51/60 Batch   60/77 - Loss:  0.026  - Validation loss:  0.037\n",
            "Epoch  52/60 Batch   20/77 - Loss:  0.022  - Validation loss:  0.035\n",
            "Epoch  52/60 Batch   40/77 - Loss:  0.024  - Validation loss:  0.035\n",
            "Epoch  52/60 Batch   60/77 - Loss:  0.024  - Validation loss:  0.035\n",
            "Epoch  53/60 Batch   20/77 - Loss:  0.020  - Validation loss:  0.033\n",
            "Epoch  53/60 Batch   40/77 - Loss:  0.022  - Validation loss:  0.033\n",
            "Epoch  53/60 Batch   60/77 - Loss:  0.022  - Validation loss:  0.033\n",
            "Epoch  54/60 Batch   20/77 - Loss:  0.019  - Validation loss:  0.031\n",
            "Epoch  54/60 Batch   40/77 - Loss:  0.021  - Validation loss:  0.032\n",
            "Epoch  54/60 Batch   60/77 - Loss:  0.020  - Validation loss:  0.031\n",
            "Epoch  55/60 Batch   20/77 - Loss:  0.017  - Validation loss:  0.029\n",
            "Epoch  55/60 Batch   40/77 - Loss:  0.019  - Validation loss:  0.030\n",
            "Epoch  55/60 Batch   60/77 - Loss:  0.019  - Validation loss:  0.030\n",
            "Epoch  56/60 Batch   20/77 - Loss:  0.016  - Validation loss:  0.028\n",
            "Epoch  56/60 Batch   40/77 - Loss:  0.018  - Validation loss:  0.029\n",
            "Epoch  56/60 Batch   60/77 - Loss:  0.017  - Validation loss:  0.028\n",
            "Epoch  57/60 Batch   20/77 - Loss:  0.015  - Validation loss:  0.027\n",
            "Epoch  57/60 Batch   40/77 - Loss:  0.016  - Validation loss:  0.027\n",
            "Epoch  57/60 Batch   60/77 - Loss:  0.016  - Validation loss:  0.027\n",
            "Epoch  58/60 Batch   20/77 - Loss:  0.014  - Validation loss:  0.025\n",
            "Epoch  58/60 Batch   40/77 - Loss:  0.015  - Validation loss:  0.026\n",
            "Epoch  58/60 Batch   60/77 - Loss:  0.015  - Validation loss:  0.025\n",
            "Epoch  59/60 Batch   20/77 - Loss:  0.013  - Validation loss:  0.024\n",
            "Epoch  59/60 Batch   40/77 - Loss:  0.014  - Validation loss:  0.025\n",
            "Epoch  59/60 Batch   60/77 - Loss:  0.014  - Validation loss:  0.024\n",
            "Epoch  60/60 Batch   20/77 - Loss:  0.012  - Validation loss:  0.023\n",
            "Epoch  60/60 Batch   40/77 - Loss:  0.013  - Validation loss:  0.024\n",
            "Epoch  60/60 Batch   60/77 - Loss:  0.013  - Validation loss:  0.023\n",
            "Model Trained and Saved\n"
          ],
          "name": "stdout"
        }
      ]
    },
    {
      "cell_type": "markdown",
      "metadata": {
        "id": "dFVaEIDkpPi-",
        "colab_type": "text"
      },
      "source": [
        "## Prediction"
      ]
    },
    {
      "cell_type": "code",
      "metadata": {
        "id": "Xc-4I9QIpPi_",
        "colab_type": "code",
        "colab": {}
      },
      "source": [
        "def source_to_seq(text):\n",
        "    '''Prepare the text for the model'''\n",
        "    sequence_length = 7\n",
        "    return [source_letter_to_int.get(word, source_letter_to_int['<UNK>']) for word in text]+ [source_letter_to_int['<PAD>']]*(sequence_length-len(text))\n"
      ],
      "execution_count": 16,
      "outputs": []
    },
    {
      "cell_type": "code",
      "metadata": {
        "id": "iSJBnnIOpPjB",
        "colab_type": "code",
        "colab": {
          "base_uri": "https://localhost:8080/",
          "height": 185
        },
        "outputId": "07247272-0540-4f59-fc99-d5be83e0c005"
      },
      "source": [
        "\n",
        "\n",
        "input_sentence = 'hello'\n",
        "text = source_to_seq(input_sentence)\n",
        "\n",
        "checkpoint = \"./best_model.ckpt\"\n",
        "\n",
        "loaded_graph = tf.Graph()\n",
        "with tf.Session(graph=loaded_graph) as sess:\n",
        "    # Load saved model\n",
        "    loader = tf.train.import_meta_graph(checkpoint + '.meta')\n",
        "    loader.restore(sess, checkpoint)\n",
        "\n",
        "    input_data = loaded_graph.get_tensor_by_name('input:0')\n",
        "    logits = loaded_graph.get_tensor_by_name('predictions:0')\n",
        "    source_sequence_length = loaded_graph.get_tensor_by_name('source_sequence_length:0')\n",
        "    target_sequence_length = loaded_graph.get_tensor_by_name('target_sequence_length:0')\n",
        "    \n",
        "    #Multiply by batch_size to match the model's input parameters\n",
        "    answer_logits = sess.run(logits, {input_data: [text]*batch_size, \n",
        "                                      target_sequence_length: [len(text)]*batch_size, \n",
        "                                      source_sequence_length: [len(text)]*batch_size})[0] \n",
        "\n",
        "\n",
        "pad = source_letter_to_int[\"<PAD>\"] \n",
        "\n",
        "print('Original Text:', input_sentence)\n",
        "\n",
        "print('\\nSource')\n",
        "print('  Word Ids:    {}'.format([i for i in text]))\n",
        "print('  Input Words: {}'.format(\" \".join([source_int_to_letter[i] for i in text])))\n",
        "\n",
        "print('\\nTarget')\n",
        "print('  Word Ids:       {}'.format([i for i in answer_logits if i != pad]))\n",
        "print('  Response Words: {}'.format(\" \".join([target_int_to_letter[i] for i in answer_logits if i != pad])))"
      ],
      "execution_count": 17,
      "outputs": [
        {
          "output_type": "stream",
          "text": [
            "INFO:tensorflow:Restoring parameters from ./best_model.ckpt\n",
            "Original Text: hello\n",
            "\n",
            "Source\n",
            "  Word Ids:    [17, 5, 23, 23, 21, 0, 0]\n",
            "  Input Words: h e l l o <PAD> <PAD>\n",
            "\n",
            "Target\n",
            "  Word Ids:       [5, 17, 23, 23, 21, 3]\n",
            "  Response Words: e h l l o <EOS>\n"
          ],
          "name": "stdout"
        }
      ]
    },
    {
      "cell_type": "code",
      "metadata": {
        "id": "R45Gmb1fpPjD",
        "colab_type": "code",
        "colab": {}
      },
      "source": [
        ""
      ],
      "execution_count": 17,
      "outputs": []
    }
  ]
}